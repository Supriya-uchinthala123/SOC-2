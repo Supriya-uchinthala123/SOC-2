{
 "cells": [
  {
   "cell_type": "code",
   "execution_count": 1,
   "id": "a881daa6",
   "metadata": {},
   "outputs": [
    {
     "data": {
      "text/plain": [
       "array([1, 2, 3, 4, 5])"
      ]
     },
     "execution_count": 1,
     "metadata": {},
     "output_type": "execute_result"
    }
   ],
   "source": [
    "import numpy as np\n",
    "l=[1,2,3,4,5]\n",
    "arr=np.array(l)\n",
    "arr"
   ]
  },
  {
   "cell_type": "code",
   "execution_count": 2,
   "id": "d08f204b",
   "metadata": {},
   "outputs": [
    {
     "data": {
      "text/plain": [
       "array([1. , 2. , 3. , 4. , 5. , 4.5])"
      ]
     },
     "execution_count": 2,
     "metadata": {},
     "output_type": "execute_result"
    }
   ],
   "source": [
    "#to add new elements into the array\n",
    "new_arr=np.append(arr,4.5)\n",
    "new_arr"
   ]
  },
  {
   "cell_type": "code",
   "execution_count": 7,
   "id": "1346b6de",
   "metadata": {},
   "outputs": [
    {
     "data": {
      "text/plain": [
       "array([ 1,  2,  3,  4,  5, 45, 67, 90])"
      ]
     },
     "execution_count": 7,
     "metadata": {},
     "output_type": "execute_result"
    }
   ],
   "source": [
    "#to add multiple values\n",
    "new_arr=np.append(arr,[45,67,90])\n",
    "new_arr"
   ]
  },
  {
   "cell_type": "code",
   "execution_count": 11,
   "id": "1d122ded",
   "metadata": {},
   "outputs": [
    {
     "data": {
      "text/plain": [
       "array([ 1,  2, 49,  3,  4,  5])"
      ]
     },
     "execution_count": 11,
     "metadata": {},
     "output_type": "execute_result"
    }
   ],
   "source": [
    "#to insert an element at particular position\n",
    "new_arr=np.insert(arr,2,49)\n",
    "new_arr"
   ]
  },
  {
   "cell_type": "code",
   "execution_count": 12,
   "id": "d7876f65",
   "metadata": {},
   "outputs": [
    {
     "data": {
      "text/plain": [
       "array([ 1,  2,  3, 12, 13, 14,  4,  5])"
      ]
     },
     "execution_count": 12,
     "metadata": {},
     "output_type": "execute_result"
    }
   ],
   "source": [
    "#to insert multiple values into array\n",
    "new_arr=np.insert(arr,3,[12,13,14])\n",
    "new_arr"
   ]
  },
  {
   "cell_type": "code",
   "execution_count": 13,
   "id": "08fe2a84",
   "metadata": {},
   "outputs": [
    {
     "data": {
      "text/plain": [
       "array([ 1,  2,  3, 13, 14,  4,  5])"
      ]
     },
     "execution_count": 13,
     "metadata": {},
     "output_type": "execute_result"
    }
   ],
   "source": [
    "#to delete an element from the array\n",
    "new_arr1=np.delete(new_arr,np.where(new_arr==12))\n",
    "new_arr1"
   ]
  },
  {
   "cell_type": "code",
   "execution_count": 14,
   "id": "7cca3b80",
   "metadata": {},
   "outputs": [
    {
     "data": {
      "text/plain": [
       "array([ 1,  2,  3,  4,  5, 12])"
      ]
     },
     "execution_count": 14,
     "metadata": {},
     "output_type": "execute_result"
    }
   ],
   "source": [
    "#to delete multiple values\n",
    "new_arr1=np.setdiff1d(new_arr,[13,14])\n",
    "new_arr1"
   ]
  },
  {
   "cell_type": "code",
   "execution_count": 15,
   "id": "fb07977a",
   "metadata": {},
   "outputs": [
    {
     "data": {
      "text/plain": [
       "array([ 1,  2, 12, 13, 14,  4,  5])"
      ]
     },
     "execution_count": 15,
     "metadata": {},
     "output_type": "execute_result"
    }
   ],
   "source": [
    "#to delete an element based on index\n",
    "new_arr1=np.delete(new_arr,2)\n",
    "new_arr1"
   ]
  },
  {
   "cell_type": "code",
   "execution_count": 16,
   "id": "dcab00e2",
   "metadata": {},
   "outputs": [
    {
     "data": {
      "text/plain": [
       "array([ 1,  2, 13, 14,  4,  5])"
      ]
     },
     "execution_count": 16,
     "metadata": {},
     "output_type": "execute_result"
    }
   ],
   "source": [
    "#to delete multiple values based on index\n",
    "new_arr1=np.delete(new_arr,[2,3])\n",
    "new_arr1"
   ]
  },
  {
   "cell_type": "code",
   "execution_count": 17,
   "id": "176c6c66",
   "metadata": {},
   "outputs": [
    {
     "data": {
      "text/plain": [
       "array([ True,  True, False, False,  True, False])"
      ]
     },
     "execution_count": 17,
     "metadata": {},
     "output_type": "execute_result"
    }
   ],
   "source": [
    "#to display the elements which are less than 5\n",
    "new_arr1<5"
   ]
  },
  {
   "cell_type": "code",
   "execution_count": 18,
   "id": "46d83988",
   "metadata": {},
   "outputs": [
    {
     "data": {
      "text/plain": [
       "array([1, 2, 4])"
      ]
     },
     "execution_count": 18,
     "metadata": {},
     "output_type": "execute_result"
    }
   ],
   "source": [
    "new_arr1[new_arr1<5]"
   ]
  },
  {
   "cell_type": "code",
   "execution_count": 19,
   "id": "1cb295ec",
   "metadata": {},
   "outputs": [
    {
     "data": {
      "text/plain": [
       "array([False, False, False, False,  True,  True])"
      ]
     },
     "execution_count": 19,
     "metadata": {},
     "output_type": "execute_result"
    }
   ],
   "source": [
    "#to display the elements between two values\n",
    "(new_arr1>3)&(new_arr1<12)"
   ]
  },
  {
   "cell_type": "code",
   "execution_count": 20,
   "id": "60c4c6f7",
   "metadata": {},
   "outputs": [
    {
     "data": {
      "text/plain": [
       "array([4, 5])"
      ]
     },
     "execution_count": 20,
     "metadata": {},
     "output_type": "execute_result"
    }
   ],
   "source": [
    "new_arr1[(new_arr1>3)&(new_arr1<12)]"
   ]
  },
  {
   "cell_type": "code",
   "execution_count": 21,
   "id": "021b7e64",
   "metadata": {},
   "outputs": [
    {
     "data": {
      "text/plain": [
       "array([False, False, False, False, False, False, False, False])"
      ]
     },
     "execution_count": 21,
     "metadata": {},
     "output_type": "execute_result"
    }
   ],
   "source": [
    "#to replace the values in the array\n",
    "new_arr==23"
   ]
  },
  {
   "cell_type": "code",
   "execution_count": 23,
   "id": "9c9d4ee9",
   "metadata": {},
   "outputs": [
    {
     "data": {
      "text/plain": [
       "array([  1, 156,   3,  12,  13,  14,   4,   5])"
      ]
     },
     "execution_count": 23,
     "metadata": {},
     "output_type": "execute_result"
    }
   ],
   "source": [
    "new_arr[new_arr==2]=156\n",
    "new_arr"
   ]
  },
  {
   "cell_type": "code",
   "execution_count": 24,
   "id": "adc0ffb4",
   "metadata": {},
   "outputs": [
    {
     "data": {
      "text/plain": [
       "array([0., 0., 0., 0., 0.])"
      ]
     },
     "execution_count": 24,
     "metadata": {},
     "output_type": "execute_result"
    }
   ],
   "source": [
    "#to create array full of zeros\n",
    "np.zeros(5)"
   ]
  },
  {
   "cell_type": "code",
   "execution_count": 25,
   "id": "d69cc48a",
   "metadata": {},
   "outputs": [
    {
     "data": {
      "text/plain": [
       "array([[0., 0., 0., 0., 0.],\n",
       "       [0., 0., 0., 0., 0.],\n",
       "       [0., 0., 0., 0., 0.]])"
      ]
     },
     "execution_count": 25,
     "metadata": {},
     "output_type": "execute_result"
    }
   ],
   "source": [
    "np.zeros([3,5])"
   ]
  },
  {
   "cell_type": "code",
   "execution_count": 26,
   "id": "a6802f48",
   "metadata": {},
   "outputs": [
    {
     "data": {
      "text/plain": [
       "array([1., 1., 1., 1., 1.])"
      ]
     },
     "execution_count": 26,
     "metadata": {},
     "output_type": "execute_result"
    }
   ],
   "source": [
    "#to create array full of ones\n",
    "np.ones(5)"
   ]
  },
  {
   "cell_type": "code",
   "execution_count": 27,
   "id": "1e6a54ae",
   "metadata": {},
   "outputs": [
    {
     "data": {
      "text/plain": [
       "array([[1., 1., 1.],\n",
       "       [1., 1., 1.]])"
      ]
     },
     "execution_count": 27,
     "metadata": {},
     "output_type": "execute_result"
    }
   ],
   "source": [
    "np.ones([2,3])"
   ]
  },
  {
   "cell_type": "code",
   "execution_count": 28,
   "id": "9d40c091",
   "metadata": {},
   "outputs": [
    {
     "data": {
      "text/plain": [
       "array([[1, 1, 1],\n",
       "       [1, 1, 1]])"
      ]
     },
     "execution_count": 28,
     "metadata": {},
     "output_type": "execute_result"
    }
   ],
   "source": [
    "#to create once with int data type\n",
    "np.ones([2,3],dtype=int)"
   ]
  },
  {
   "cell_type": "code",
   "execution_count": 29,
   "id": "0d231bd8",
   "metadata": {},
   "outputs": [],
   "source": [
    "#task\n",
    "#to create range of element as array\n",
    "new_arr=np.arange(12)"
   ]
  },
  {
   "cell_type": "code",
   "execution_count": 30,
   "id": "5e470eda",
   "metadata": {},
   "outputs": [
    {
     "data": {
      "text/plain": [
       "array([ 0,  1,  2,  3,  4,  5,  6,  7,  8,  9, 10, 11])"
      ]
     },
     "execution_count": 30,
     "metadata": {},
     "output_type": "execute_result"
    }
   ],
   "source": [
    "new_arr"
   ]
  },
  {
   "cell_type": "code",
   "execution_count": 31,
   "id": "890750b7",
   "metadata": {},
   "outputs": [
    {
     "data": {
      "text/plain": [
       "array([[ 0,  1,  2],\n",
       "       [ 3,  4,  5],\n",
       "       [ 6,  7,  8],\n",
       "       [ 9, 10, 11]])"
      ]
     },
     "execution_count": 31,
     "metadata": {},
     "output_type": "execute_result"
    }
   ],
   "source": [
    "#to convert 1d array to multidimensional array\n",
    "new_arr1=new_arr.reshape(4,3)\n",
    "new_arr1"
   ]
  },
  {
   "cell_type": "code",
   "execution_count": 32,
   "id": "ff9bc300",
   "metadata": {},
   "outputs": [
    {
     "data": {
      "text/plain": [
       "array([[1., 0., 0.],\n",
       "       [0., 1., 0.],\n",
       "       [0., 0., 1.]])"
      ]
     },
     "execution_count": 32,
     "metadata": {},
     "output_type": "execute_result"
    }
   ],
   "source": [
    "#to create array of identity matrix\n",
    "np.identity(3)"
   ]
  },
  {
   "cell_type": "code",
   "execution_count": 33,
   "id": "3c9fcedd",
   "metadata": {},
   "outputs": [
    {
     "data": {
      "text/plain": [
       "5.5"
      ]
     },
     "execution_count": 33,
     "metadata": {},
     "output_type": "execute_result"
    }
   ],
   "source": [
    "#to find mean\n",
    "np.mean(new_arr)"
   ]
  },
  {
   "cell_type": "code",
   "execution_count": 34,
   "id": "44d8b4c9",
   "metadata": {},
   "outputs": [
    {
     "data": {
      "text/plain": [
       "5.5"
      ]
     },
     "execution_count": 34,
     "metadata": {},
     "output_type": "execute_result"
    }
   ],
   "source": [
    "#to find median\n",
    "np.median(new_arr)"
   ]
  },
  {
   "cell_type": "code",
   "execution_count": 35,
   "id": "e5686692",
   "metadata": {},
   "outputs": [
    {
     "data": {
      "text/plain": [
       "11.916666666666666"
      ]
     },
     "execution_count": 35,
     "metadata": {},
     "output_type": "execute_result"
    }
   ],
   "source": [
    "#to find variance\n",
    "np.var(new_arr)"
   ]
  },
  {
   "cell_type": "code",
   "execution_count": 36,
   "id": "61ef5480",
   "metadata": {},
   "outputs": [
    {
     "data": {
      "text/plain": [
       "3.452052529534663"
      ]
     },
     "execution_count": 36,
     "metadata": {},
     "output_type": "execute_result"
    }
   ],
   "source": [
    "#to find standard deviation\n",
    "np.std(new_arr)"
   ]
  },
  {
   "cell_type": "code",
   "execution_count": 37,
   "id": "2f2c00d3",
   "metadata": {},
   "outputs": [
    {
     "data": {
      "text/plain": [
       "array([[1., 0., 0., 0., 0.],\n",
       "       [0., 1., 0., 0., 0.],\n",
       "       [0., 0., 1., 0., 0.],\n",
       "       [0., 0., 0., 1., 0.],\n",
       "       [0., 0., 0., 0., 1.]])"
      ]
     },
     "execution_count": 37,
     "metadata": {},
     "output_type": "execute_result"
    }
   ],
   "source": [
    "np.eye(5)"
   ]
  },
  {
   "cell_type": "code",
   "execution_count": null,
   "id": "da94e2bd",
   "metadata": {},
   "outputs": [],
   "source": []
  }
 ],
 "metadata": {
  "kernelspec": {
   "display_name": "Python 3 (ipykernel)",
   "language": "python",
   "name": "python3"
  },
  "language_info": {
   "codemirror_mode": {
    "name": "ipython",
    "version": 3
   },
   "file_extension": ".py",
   "mimetype": "text/x-python",
   "name": "python",
   "nbconvert_exporter": "python",
   "pygments_lexer": "ipython3",
   "version": "3.11.5"
  }
 },
 "nbformat": 4,
 "nbformat_minor": 5
}
